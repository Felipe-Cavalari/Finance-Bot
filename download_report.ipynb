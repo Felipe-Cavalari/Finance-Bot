{
 "cells": [
  {
   "cell_type": "code",
   "execution_count": 1,
   "id": "d5eec083",
   "metadata": {},
   "outputs": [],
   "source": [
    "from selenium import webdriver\n",
    "from selenium.webdriver.chrome.service import Service\n",
    "from selenium.webdriver.chrome.options import Options\n",
    "from selenium.webdriver.common.by import By\n",
    "from selenium.webdriver.support.ui import WebDriverWait\n",
    "from selenium.webdriver.support import expected_conditions as EC\n",
    "from webdriver_manager.chrome import ChromeDriverManager\n",
    "from selenium.common.exceptions import TimeoutException\n",
    "import time\n",
    "import os\n",
    "from datetime import datetime"
   ]
  },
  {
   "cell_type": "code",
   "execution_count": 4,
   "id": "d953fb4d",
   "metadata": {},
   "outputs": [],
   "source": [
    "# Variaveis da automação\n",
    "\n",
    "url = \"https://www.infomoney.com.br/ferramentas/altas-e-baixas/\"\n",
    "project_path = os.getcwd()\n",
    "download_path = os.path.join(project_path, 'relatorios')\n",
    "\n",
    "# Cria a pasta se ela não existir\n",
    "os.makedirs(download_path, exist_ok=True)\n",
    "\n",
    "\n",
    "# Função de renomear o arquivo para adicionar a data atual\n",
    "def esperar_download_concluir(pasta, timeout=30):\n",
    "    for _ in range(timeout):\n",
    "        if not any(f.endswith(\".crdownload\") for f in os.listdir(pasta)):\n",
    "            return\n",
    "        time.sleep(1)\n",
    "    raise TimeoutException(\"Download não finalizado a tempo.\")\n",
    "\n",
    "def renomear_arquivo_altas(download_path):\n",
    "    nome_original = \"altas_e_baixas.csv\"\n",
    "    caminho_original = os.path.join(download_path, nome_original)\n",
    "\n",
    "    if os.path.exists(caminho_original):\n",
    "        data = datetime.now().strftime(\"%d_%m_%Y\")\n",
    "        novo_nome = f\"altas_e_baixas_{data}.csv\"\n",
    "        caminho_novo = os.path.join(download_path, novo_nome)\n",
    "\n",
    "        os.rename(caminho_original, caminho_novo)\n",
    "        print(f\"Arquivo renomeado para: {novo_nome}\")\n",
    "    else:\n",
    "        print(f\"Arquivo {nome_original} não encontrado.\")\n"
   ]
  },
  {
   "cell_type": "code",
   "execution_count": 6,
   "id": "fb759729",
   "metadata": {},
   "outputs": [
    {
     "name": "stdout",
     "output_type": "stream",
     "text": [
      "encontrou o botão em formato mobile\n",
      "Arquivo renomeado para: altas_e_baixas_30_07_2025.csv\n"
     ]
    }
   ],
   "source": [
    "options = Options()\n",
    "options.add_experimental_option(\"prefs\", {\n",
    "    \"download.default_directory\": download_path,\n",
    "    \"download.prompt_for_download\": False,\n",
    "    \"directory_upgrade\": True,\n",
    "    \"safebrowsing.enabled\": True\n",
    "})\n",
    "options.add_argument(\"--headless=new\")  # 👈 novo modo headless do Chrome\n",
    "options.add_argument(\"--window-size=1920,1080\")  # Define tamanho da janela (evita bugs de layout)\n",
    "options.add_argument(\"--disable-gpu\")\n",
    "\n",
    "driver = webdriver.Chrome(service=Service(ChromeDriverManager().install()), options=options)\n",
    "\n",
    "\n",
    "# Iniciando automação\n",
    "driver.get(url)\n",
    "driver.maximize_window()\n",
    "\n",
    " # Aguarda carregamento completo da tabela\n",
    "time.sleep(5)\n",
    "\n",
    "# Captando botão para download\n",
    "try:\n",
    "    btn = WebDriverWait(driver, 10).until(EC.element_to_be_clickable((By.ID, \"export_altas_e_baixas_mobile\")))\n",
    "    btn.click()\n",
    "    print(\"encontrou o botão em formato mobile\")\n",
    "except TimeoutException:\n",
    "    print(\"Não encontrou o formato mobile, tentando no formato Web\")\n",
    "    try:\n",
    "        btn = WebDriverWait(driver, 10).until(EC.element_to_be_clickable((By.ID, \"export_altas_e_baixas_mobile\")))\n",
    "        btn.click()\n",
    "        print(\"encontrou o botão em formato web\")\n",
    "    except:\n",
    "        print('Não encontrou nem no Web')\n",
    "\n",
    "\n",
    "driver.close()\n",
    "\n",
    "## Renomeia o arquivo\n",
    "renomear_arquivo_altas(download_path)\n"
   ]
  }
 ],
 "metadata": {
  "kernelspec": {
   "display_name": "finance_bot (3.12.3)",
   "language": "python",
   "name": "python3"
  },
  "language_info": {
   "codemirror_mode": {
    "name": "ipython",
    "version": 3
   },
   "file_extension": ".py",
   "mimetype": "text/x-python",
   "name": "python",
   "nbconvert_exporter": "python",
   "pygments_lexer": "ipython3",
   "version": "3.12.3"
  }
 },
 "nbformat": 4,
 "nbformat_minor": 5
}
